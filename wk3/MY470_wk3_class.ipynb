{
 "cells": [
  {
   "cell_type": "markdown",
   "metadata": {
    "slideshow": {
     "slide_type": "slide"
    }
   },
   "source": [
    "### MY470 Computer Programming\n",
    "# For-Loops and List Comprehensions in Python\n",
    "### Week 3 Lab"
   ]
  },
  {
   "cell_type": "markdown",
   "metadata": {
    "slideshow": {
     "slide_type": "slide"
    }
   },
   "source": [
    "## Control Flow and Indentation"
   ]
  },
  {
   "cell_type": "markdown",
   "metadata": {
    "slideshow": {
     "slide_type": "-"
    }
   },
   "source": [
    "```\n",
    "for i in list: \n",
    "    # inside the for-loop\n",
    "    if something is TRUE:\n",
    "        # inside the if statement\n",
    "        do something\n",
    "    else:\n",
    "        # inside the else statement\n",
    "        do something\n",
    "    # inside the for-loop, but not in the if or else statement anymore\n",
    "    do something  \n",
    "# outside of the for-loop\n",
    "do something\n",
    "```"
   ]
  },
  {
   "cell_type": "code",
   "execution_count": 9,
   "metadata": {
    "slideshow": {
     "slide_type": "slide"
    }
   },
   "outputs": [
    {
     "name": "stdout",
     "output_type": "stream",
     "text": [
      "[1, 2, 'boo', 4, 5, 'boo', 7, 8, 'boo', 10, 11, 'boo', 13, 14, 'boo', 16, 17, 'boo', 19, 20, 'boo', 22, 23, 'boo', 25, 26, 'boo', 28, 29, 'boo', 31, 32, 'boo', 34, 35, 'boo', 37, 38, 'boo', 40, 41, 'boo', 43, 44, 'boo', 46, 47, 'boo', 49, 50, 'boo', 52, 53, 'boo', 55, 56, 'boo', 58, 59, 'boo', 61, 62, 'boo', 64, 65, 'boo', 67, 68, 'boo', 70, 71, 'boo', 73, 74, 'boo', 76, 77, 'boo', 79, 80, 'boo', 82, 83, 'boo', 85, 86, 'boo', 88, 89, 'boo', 91, 92, 'boo', 94, 95, 'boo', 97, 98, 'boo', 100]\n"
     ]
    }
   ],
   "source": [
    "# Exercise 1: Create a list that contains all integers from 1 to 100 (inclusive), \n",
    "# except that it has the string 'boo' for every integer that is divisible by 3 \n",
    "# Your list should look like: [1, 2, 'boo', 4, 5, 'boo', 7, 8, 'boo', 10, ...]\n",
    "\n",
    "newlst = []\n",
    "\n",
    "for i in range(1,101):\n",
    "    if i%3 == 0:\n",
    "        newlst.append('boo')\n",
    "    else:\n",
    "        newlst.append(i)\n",
    "\n",
    "print(newlst)\n",
    "#vs newlst\n"
   ]
  },
  {
   "cell_type": "code",
   "execution_count": 21,
   "metadata": {
    "slideshow": {
     "slide_type": "-"
    }
   },
   "outputs": [
    {
     "name": "stdout",
     "output_type": "stream",
     "text": [
      "24\n"
     ]
    }
   ],
   "source": [
    "# Exercise 2: Sum the even integers from the list below.\n",
    "lst = [1, 3, 2, 4.5, 7, 8, 10, 3, 5, 4, 7, 3.33]\n",
    "\n",
    "total = 0\n",
    "for i in lst:\n",
    "    if i % 2 == 0:\n",
    "        total+= i\n",
    "    else:\n",
    "        total+=0\n",
    "\n",
    "print(total)\n"
   ]
  },
  {
   "cell_type": "code",
   "execution_count": 23,
   "metadata": {},
   "outputs": [
    {
     "name": "stdout",
     "output_type": "stream",
     "text": [
      "24\n"
     ]
    }
   ],
   "source": [
    "total = 0\n",
    "for i in lst:\n",
    "    if i % 2 == 0:\n",
    "        total+= i\n",
    "        \n",
    "print(total)"
   ]
  },
  {
   "cell_type": "code",
   "execution_count": 22,
   "metadata": {},
   "outputs": [
    {
     "name": "stdout",
     "output_type": "stream",
     "text": [
      "[2, 8, 10, 4]\n"
     ]
    },
    {
     "data": {
      "text/plain": [
       "24"
      ]
     },
     "execution_count": 22,
     "metadata": {},
     "output_type": "execute_result"
    }
   ],
   "source": [
    "lst = [1, 3, 2, 4.5, 7, 8, 10, 3, 5, 4, 7, 3.33]\n",
    "total = 0\n",
    "sumlist = []\n",
    "for i in lst:\n",
    "    if i%2 == 0:\n",
    "        sumlist.append(i)\n",
    "print(sumlist)\n",
    "sum(sumlist)"
   ]
  },
  {
   "cell_type": "code",
   "execution_count": 27,
   "metadata": {},
   "outputs": [
    {
     "name": "stdout",
     "output_type": "stream",
     "text": [
      "[0, 1, 2, 3, 4, 5, 6, 7, 8, 9]\n",
      "[0, 200, 400, 600, 800]\n"
     ]
    }
   ],
   "source": [
    "lst = []\n",
    "for i in range(10):\n",
    "    lst.append(i)\n",
    "    \n",
    "print(lst)\n",
    "\n",
    "\n",
    "lst = []\n",
    "for i in range(10):\n",
    "    if i%2 == 0:\n",
    "        lst.append(i*100)\n",
    "    \n",
    "print(lst)"
   ]
  },
  {
   "cell_type": "code",
   "execution_count": 24,
   "metadata": {},
   "outputs": [
    {
     "name": "stdout",
     "output_type": "stream",
     "text": [
      "[0, 1, 2, 3, 4, 5, 6, 7, 8, 9]\n"
     ]
    }
   ],
   "source": [
    "lst = [i for i in range(10)]\n",
    "print(lst)"
   ]
  },
  {
   "cell_type": "markdown",
   "metadata": {
    "slideshow": {
     "slide_type": "slide"
    }
   },
   "source": [
    "## List Comprehensions\n",
    "\n",
    "Create a new list based on another one.\n",
    "\n",
    "With a for-loop: \n",
    "\n",
    "```\n",
    "newlst = []\n",
    "for i in lst:\n",
    "    if something is TRUE:\n",
    "        j = do something to i\n",
    "        newlst.append(j)\n",
    "```    \n",
    "\n",
    "With a list comprehension: \n",
    "\n",
    "```\n",
    "newlst = [do something to i for i in lst if something is TRUE] \n",
    "```"
   ]
  },
  {
   "cell_type": "code",
   "execution_count": 41,
   "metadata": {
    "slideshow": {
     "slide_type": "slide"
    }
   },
   "outputs": [
    {
     "name": "stdout",
     "output_type": "stream",
     "text": [
      "[]\n"
     ]
    },
    {
     "data": {
      "text/plain": [
       "[1, 9, 4, 49, 64, 100, 9, 25, 16, 49]"
      ]
     },
     "execution_count": 41,
     "metadata": {},
     "output_type": "execute_result"
    }
   ],
   "source": [
    "# Exercise 3: Using a list comprehension, create a new list containing \n",
    "# the squares of the integers in the list below\n",
    "lst = [1, 3, 2, 4.5, 7, 8, 10, 3, 5, 4, 7, 3.33]\n",
    "\n",
    "new_list = []\n",
    "for i in lst:\n",
    "    if i ** 2 == int:\n",
    "        new_list.append(i)\n",
    "\n",
    "print(new_list)\n",
    "\n",
    "newlst = [i**2 for i in lst if type(i) == int]\n",
    "newlst\n",
    "\n",
    "\n",
    "newlst = [i**2 for i in lst if isinstance(i,int)] #isinstance--> a python function to check if it's an int,etc.\n",
    "newlst"
   ]
  },
  {
   "cell_type": "code",
   "execution_count": 60,
   "metadata": {
    "slideshow": {
     "slide_type": "-"
    }
   },
   "outputs": [
    {
     "data": {
      "text/plain": [
       "[(0, 6), (1, 5), (2, 4), (3, 3)]"
      ]
     },
     "execution_count": 60,
     "metadata": {},
     "output_type": "execute_result"
    }
   ],
   "source": [
    "# Exercise 4: Consider the lists x and y below. Using a list comprehension,\n",
    "# create a list that contains all combinations of (elem_x, elem_y) \n",
    "# such that elem_x + elem_y = 6\n",
    "# Your answer should look as follows: [(0, 6), (1, 5), (2, 4), (3, 3)]\n",
    "x = [0, 1, 2, 3]\n",
    "y = [3, 4, 5, 6]\n",
    "\n",
    "\n",
    "#1 (started out first).\n",
    "#newlst = []\n",
    "#for elem_x in x:\n",
    "    #for elem_y in y:\n",
    "        #print(elem_x, elem_y)\n",
    "\n",
    "        \n",
    "#2. \n",
    "#newlst = []\n",
    "\n",
    "#for elem_x in x:\n",
    "    #for elem_y in y:\n",
    "        #if elem_x + elem_y == 6:\n",
    "            #newlst.append((elem_x,elem_y))\n",
    "#newlst\n",
    "        \n",
    "    \n",
    "#ignore \n",
    "#for i in x:\n",
    "    #for i2 in y:\n",
    "        #print(i,i2)\n",
    "\n",
    "newlst = [((elem_x, elem_y)) for elem_x in x for elem_y in y if elem_x + elem_y == 6]\n",
    "\n",
    "newlst\n"
   ]
  },
  {
   "cell_type": "code",
   "execution_count": null,
   "metadata": {},
   "outputs": [],
   "source": [
    "newlst = []\n",
    "\n",
    "for elem_x in x:\n",
    "    for elem_y in y:\n",
    "        if elem_x + elem_y == 6:\n",
    "            newlst.append((elem_x,elem_y))\n",
    "\n",
    "newlist = [(_) for _ for _ if _]"
   ]
  },
  {
   "cell_type": "code",
   "execution_count": 64,
   "metadata": {
    "slideshow": {
     "slide_type": "-"
    }
   },
   "outputs": [
    {
     "data": {
      "text/plain": [
       "[[0, 1, 2, 3], [1, 2, 3], [2, 3], [3]]"
      ]
     },
     "execution_count": 64,
     "metadata": {},
     "output_type": "execute_result"
    }
   ],
   "source": [
    "# Exercise 5: Using nested list comprehensions and range(), create a list \n",
    "# that looks as follows: [[0, 1, 2, 3], [1, 2, 3], [2, 3], [3]]\n",
    "\n",
    "#you dont have to use nested list comprehensions\n",
    "\n",
    "lst = [range(x, 4) for x in range(4)]\n",
    "lst\n",
    "\n",
    "#vs\n",
    "\n",
    "lst = [list(range(x, 4)) for x in range(4)]\n",
    "lst\n"
   ]
  },
  {
   "cell_type": "markdown",
   "metadata": {
    "slideshow": {
     "slide_type": "slide"
    }
   },
   "source": [
    "## Iterating over Dictionaries"
   ]
  },
  {
   "cell_type": "code",
   "execution_count": 69,
   "metadata": {
    "slideshow": {
     "slide_type": "-"
    }
   },
   "outputs": [
    {
     "name": "stdout",
     "output_type": "stream",
     "text": [
      "a\n",
      "b\n",
      "c\n",
      "\n",
      "apple\n",
      "beetle\n",
      "cat\n",
      "apple\n",
      "beetle\n",
      "cat\n",
      "\n",
      "('a', 'apple')\n",
      "('b', 'beetle')\n",
      "('c', 'cat')\n",
      "\n",
      "a : apple\n",
      "b : beetle\n",
      "c : cat\n"
     ]
    }
   ],
   "source": [
    "letters = {'a':'apple', 'b': 'beetle', 'c': 'cat'}\n",
    "\n",
    "for i in letters:  # equivalent to: for i in letters.keys():            \n",
    "    print(i)\n",
    "    \n",
    "#for i in letters.keys():       we can iterate through the keys, same thing as the letters (the one above)\n",
    "    #print(i)\n",
    "\n",
    "print()\n",
    "for i in letters: #can iterate through the keys\n",
    "    print(letters[i])\n",
    "# equivalent to:\n",
    "for i in letters.values():   #or we can interate through the values\n",
    "    print(i)\n",
    "\n",
    "print()\n",
    "for i in letters.items():      #if we want to iterate both, use .items()\n",
    "    print(i)\n",
    "    \n",
    "print()\n",
    "for i, j in letters.items():  #i = key, j = value\n",
    "    print(i, \":\", j)\n",
    "    #or print(i, j, sep = \" : \")\n",
    "    "
   ]
  },
  {
   "cell_type": "code",
   "execution_count": 89,
   "metadata": {
    "slideshow": {
     "slide_type": "slide"
    }
   },
   "outputs": [
    {
     "data": {
      "text/plain": [
       "['a', 'b', 'c', 'd']"
      ]
     },
     "execution_count": 89,
     "metadata": {},
     "output_type": "execute_result"
    }
   ],
   "source": [
    "# Exercise 6: Using a dictionary comprehension, create a new dictionary that\n",
    "# contains the keys from dictionary letters that are strings, with the value for\n",
    "# each key assigned to be an empty list\n",
    "# The new dictionary should look as follows: {'a':[], 'b':[], 'c':[], 'd':[]}\n",
    "\n",
    "letters = {'a':'apple', 4: None, 'b': 'beetle', 'c': 'cat', 2: None, 'd': 'diamond'}\n",
    "\n",
    "newdict = {}\n",
    "for k in letters: #or letters.keys:\n",
    "    if type(k) == str:\n",
    "        newdict[k] = [] #create an empty list\n",
    "\n",
    "#newdict\n",
    "\n",
    "\n",
    "#dictionary comprehension\n",
    "\n",
    "newdict = {key : value for _ if _ }\n",
    "    \n",
    "newdict = {k:[] for k in letters if type(k) == str}\n",
    "newdict\n",
    "\n",
    "\n",
    "newlst = [k for k in letters if type(k) == str]\n",
    "newlst\n"
   ]
  },
  {
   "cell_type": "code",
   "execution_count": 93,
   "metadata": {
    "slideshow": {
     "slide_type": "-"
    }
   },
   "outputs": [
    {
     "data": {
      "text/plain": [
       "{'a': ['a', 'an'], 'b': ['be', 'been'], 'c': ['can'], 'd': ['do', 'did']}"
      ]
     },
     "execution_count": 93,
     "metadata": {},
     "output_type": "execute_result"
    }
   ],
   "source": [
    "# Exercise 7: Now, distribute the words from the list below to the new dictionary\n",
    "# according to their first letter\n",
    "\n",
    "dic = {'a': [], 'b': [], 'c': [], 'd': []}\n",
    "wordlst = ['a', 'be', 'an', 'the', 'can', 'do', 'did', 'to', 'been']\n",
    "\n",
    "for word in wordlst:\n",
    "    first_l = word[0]\n",
    "    \n",
    "    if first_l in dic: #dic.keys(): --> same thing\n",
    "        dic[first_l].append(word) #because the value is a [], will append it to that list\n",
    "\n",
    "dic\n",
    "\n"
   ]
  },
  {
   "cell_type": "code",
   "execution_count": 95,
   "metadata": {},
   "outputs": [
    {
     "data": {
      "text/plain": [
       "{'a': ['a', 'an'],\n",
       " 'b': ['be', 'been'],\n",
       " 'c': ['can'],\n",
       " 'd': ['do', 'did'],\n",
       " 't': ['the', 'to']}"
      ]
     },
     "execution_count": 95,
     "metadata": {},
     "output_type": "execute_result"
    }
   ],
   "source": [
    "dic = {'a': [], 'b': [], 'c': [], 'd': []}\n",
    "wordlst = ['a', 'be', 'an', 'the', 'can', 'do', 'did', 'to', 'been']\n",
    "\n",
    "for word in wordlst:\n",
    "    first_l = word[0]\n",
    "    \n",
    "    if first_l not in dic: #dic.keys(): --> same thing; if letter not in dict keys\n",
    "        dic[first_l] = [] #check if it's in the dictionary keys, if not, then will go to a new list; create dict item with empty list at that key\n",
    "    \n",
    "    dic[first_l].append(word) #because the value is a [], will append it to that list; append word to a list\n",
    "\n",
    "dic"
   ]
  },
  {
   "cell_type": "markdown",
   "metadata": {
    "slideshow": {
     "slide_type": "slide"
    }
   },
   "source": [
    "## Best Practice: Beware of Iterating over Unordered Collections\n",
    "\n",
    "* (In Python 3.6 dictionaries are now implemented as ordered but you should not rely on this!)\n",
    "* For unordered collections, the ordering of elements is determined by how the elements are stored in memory\n"
   ]
  },
  {
   "cell_type": "code",
   "execution_count": 11,
   "metadata": {
    "slideshow": {
     "slide_type": "-"
    }
   },
   "outputs": [
    {
     "name": "stdout",
     "output_type": "stream",
     "text": [
      "List: [1, 2, 4, 8, 1, 2]\n",
      "Set: [8, 1, 2, 4]\n"
     ]
    }
   ],
   "source": [
    "lst = [1, 2, 4, 8, 1, 2]\n",
    "st = set(lst)\n",
    "\n",
    "print(\"List:\", [i for i in lst])    \n",
    "print(\"Set:\", [i for i in st]) \n"
   ]
  },
  {
   "cell_type": "markdown",
   "metadata": {
    "slideshow": {
     "slide_type": "slide"
    }
   },
   "source": [
    "## Best Practice: Avoid Mutating a List When Iterating over It\n"
   ]
  },
  {
   "cell_type": "code",
   "execution_count": 10,
   "metadata": {
    "slideshow": {
     "slide_type": "-"
    }
   },
   "outputs": [
    {
     "name": "stdout",
     "output_type": "stream",
     "text": [
      "0 [1, 2, 3, 4, 5, 6, 7, 8, 9]\n",
      "3 [1, 2, 4, 5, 6, 7, 8, 9]\n",
      "6 [1, 2, 4, 5, 7, 8, 9]\n",
      "8 [1, 2, 4, 5, 7, 9]\n"
     ]
    },
    {
     "ename": "IndexError",
     "evalue": "pop index out of range",
     "output_type": "error",
     "traceback": [
      "\u001b[0;31m---------------------------------------------------------------------------\u001b[0m",
      "\u001b[0;31mIndexError\u001b[0m                                Traceback (most recent call last)",
      "\u001b[0;32m<ipython-input-10-368f10c34dd9>\u001b[0m in \u001b[0;36m<module>\u001b[0;34m()\u001b[0m\n\u001b[1;32m      1\u001b[0m \u001b[0mlst\u001b[0m \u001b[0;34m=\u001b[0m \u001b[0;34m[\u001b[0m\u001b[0mi\u001b[0m \u001b[0;32mfor\u001b[0m \u001b[0mi\u001b[0m \u001b[0;32min\u001b[0m \u001b[0mrange\u001b[0m\u001b[0;34m(\u001b[0m\u001b[0;36m10\u001b[0m\u001b[0;34m)\u001b[0m\u001b[0;34m]\u001b[0m\u001b[0;34m\u001b[0m\u001b[0m\n\u001b[1;32m      2\u001b[0m \u001b[0;32mfor\u001b[0m \u001b[0mi\u001b[0m \u001b[0;32min\u001b[0m \u001b[0mlst\u001b[0m\u001b[0;34m:\u001b[0m\u001b[0;34m\u001b[0m\u001b[0m\n\u001b[0;32m----> 3\u001b[0;31m     \u001b[0mpopped\u001b[0m \u001b[0;34m=\u001b[0m \u001b[0mlst\u001b[0m\u001b[0;34m.\u001b[0m\u001b[0mpop\u001b[0m\u001b[0;34m(\u001b[0m\u001b[0mi\u001b[0m\u001b[0;34m)\u001b[0m\u001b[0;34m\u001b[0m\u001b[0m\n\u001b[0m\u001b[1;32m      4\u001b[0m     \u001b[0mprint\u001b[0m\u001b[0;34m(\u001b[0m\u001b[0mpopped\u001b[0m\u001b[0;34m,\u001b[0m \u001b[0mlst\u001b[0m\u001b[0;34m)\u001b[0m\u001b[0;34m\u001b[0m\u001b[0m\n",
      "\u001b[0;31mIndexError\u001b[0m: pop index out of range"
     ]
    }
   ],
   "source": [
    "lst = [i for i in range(10)]\n",
    "for i in lst:\n",
    "    popped = lst.pop(i)\n",
    "    print(popped, lst)\n",
    "    \n",
    "#create a new list\n"
   ]
  }
 ],
 "metadata": {
  "celltoolbar": "Slideshow",
  "kernelspec": {
   "display_name": "Python 3 (ipykernel)",
   "language": "python",
   "name": "python3"
  },
  "language_info": {
   "codemirror_mode": {
    "name": "ipython",
    "version": 3
   },
   "file_extension": ".py",
   "mimetype": "text/x-python",
   "name": "python",
   "nbconvert_exporter": "python",
   "pygments_lexer": "ipython3",
   "version": "3.9.12"
  }
 },
 "nbformat": 4,
 "nbformat_minor": 2
}
